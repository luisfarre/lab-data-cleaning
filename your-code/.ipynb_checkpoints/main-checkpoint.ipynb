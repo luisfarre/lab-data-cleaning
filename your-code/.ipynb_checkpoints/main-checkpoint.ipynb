{
 "cells": [
  {
   "cell_type": "markdown",
   "metadata": {},
   "source": [
    "#### 1. Import pandas library"
   ]
  },
  {
   "cell_type": "code",
   "execution_count": 55,
   "metadata": {
    "ExecuteTime": {
     "end_time": "2020-02-04T19:22:37.388495Z",
     "start_time": "2020-02-04T19:22:37.382837Z"
    }
   },
   "outputs": [],
   "source": [
    "import pandas as pd\n",
    "from google.cloud import bigquery\n",
    "import os"
   ]
  },
  {
   "cell_type": "markdown",
   "metadata": {},
   "source": [
    "#### 2. Import BigQuery library\n"
   ]
  },
  {
   "cell_type": "code",
   "execution_count": 56,
   "metadata": {
    "ExecuteTime": {
     "end_time": "2020-02-04T19:22:38.063106Z",
     "start_time": "2020-02-04T19:22:38.058192Z"
    }
   },
   "outputs": [],
   "source": [
    "os.environ[\"GOOGLE_APPLICATION_CREDENTIALS\"]=\"/Users/inesgalofrebofill/Documents/Ironhack/ironhack_service_account_big_query.json\""
   ]
  },
  {
   "cell_type": "markdown",
   "metadata": {},
   "source": [
    "#### 3. Create a connection to BigQuery"
   ]
  },
  {
   "cell_type": "code",
   "execution_count": 57,
   "metadata": {
    "ExecuteTime": {
     "end_time": "2020-02-04T19:22:38.545870Z",
     "start_time": "2020-02-04T19:22:38.531393Z"
    }
   },
   "outputs": [],
   "source": [
    "client = bigquery.Client()"
   ]
  },
  {
   "cell_type": "markdown",
   "metadata": {},
   "source": [
    "#### 4. Import data from the users table from the stackoverflow public database for United Kingdom only"
   ]
  },
  {
   "cell_type": "code",
   "execution_count": 58,
   "metadata": {
    "ExecuteTime": {
     "end_time": "2020-02-04T19:22:38.919333Z",
     "start_time": "2020-02-04T19:22:38.913032Z"
    }
   },
   "outputs": [],
   "source": [
    "query_1='''\n",
    "\n",
    "SELECT*\n",
    "\n",
    "FROM \n",
    "        `bigquery-public-data.stackoverflow.users` u\n",
    "        \n",
    "WHERE u.location like '%United Kingdom%'\n",
    "\n",
    "\n",
    "'''"
   ]
  },
  {
   "cell_type": "code",
   "execution_count": 59,
   "metadata": {
    "ExecuteTime": {
     "end_time": "2020-02-04T19:23:14.231486Z",
     "start_time": "2020-02-04T19:22:39.147964Z"
    }
   },
   "outputs": [
    {
     "data": {
      "text/html": [
       "<div>\n",
       "<style scoped>\n",
       "    .dataframe tbody tr th:only-of-type {\n",
       "        vertical-align: middle;\n",
       "    }\n",
       "\n",
       "    .dataframe tbody tr th {\n",
       "        vertical-align: top;\n",
       "    }\n",
       "\n",
       "    .dataframe thead th {\n",
       "        text-align: right;\n",
       "    }\n",
       "</style>\n",
       "<table border=\"1\" class=\"dataframe\">\n",
       "  <thead>\n",
       "    <tr style=\"text-align: right;\">\n",
       "      <th></th>\n",
       "      <th>id</th>\n",
       "      <th>display_name</th>\n",
       "      <th>about_me</th>\n",
       "      <th>age</th>\n",
       "      <th>creation_date</th>\n",
       "      <th>last_access_date</th>\n",
       "      <th>location</th>\n",
       "      <th>reputation</th>\n",
       "      <th>up_votes</th>\n",
       "      <th>down_votes</th>\n",
       "      <th>views</th>\n",
       "      <th>profile_image_url</th>\n",
       "      <th>website_url</th>\n",
       "    </tr>\n",
       "  </thead>\n",
       "  <tbody>\n",
       "    <tr>\n",
       "      <th>0</th>\n",
       "      <td>1074</td>\n",
       "      <td>Javache</td>\n",
       "      <td>&lt;p&gt;Hi.&lt;/p&gt;\\n\\n&lt;p&gt;I'm an iOS engineer at Facebo...</td>\n",
       "      <td>None</td>\n",
       "      <td>2008-08-12 10:11:09.847000+00:00</td>\n",
       "      <td>2019-10-21 15:17:18.803000+00:00</td>\n",
       "      <td>London, United Kingdom</td>\n",
       "      <td>3107</td>\n",
       "      <td>158</td>\n",
       "      <td>21</td>\n",
       "      <td>266</td>\n",
       "      <td>None</td>\n",
       "      <td>http://thinkjavache.be/blog</td>\n",
       "    </tr>\n",
       "    <tr>\n",
       "      <th>1</th>\n",
       "      <td>1077</td>\n",
       "      <td>smh</td>\n",
       "      <td>&lt;p&gt;\\nEmbedded software engineer.&lt;/p&gt;</td>\n",
       "      <td>None</td>\n",
       "      <td>2008-08-12 10:34:56.447000+00:00</td>\n",
       "      <td>2019-09-07 17:19:22.130000+00:00</td>\n",
       "      <td>Southampton, United Kingdom</td>\n",
       "      <td>1075</td>\n",
       "      <td>148</td>\n",
       "      <td>4</td>\n",
       "      <td>69</td>\n",
       "      <td>None</td>\n",
       "      <td>http://www.bevois.com</td>\n",
       "    </tr>\n",
       "    <tr>\n",
       "      <th>2</th>\n",
       "      <td>4397</td>\n",
       "      <td>andygeers</td>\n",
       "      <td>None</td>\n",
       "      <td>None</td>\n",
       "      <td>2008-09-03 13:48:30.233000+00:00</td>\n",
       "      <td>2019-11-29 12:40:30.020000+00:00</td>\n",
       "      <td>London, United Kingdom</td>\n",
       "      <td>6057</td>\n",
       "      <td>511</td>\n",
       "      <td>12</td>\n",
       "      <td>593</td>\n",
       "      <td>None</td>\n",
       "      <td>http://www.geero.net/</td>\n",
       "    </tr>\n",
       "    <tr>\n",
       "      <th>3</th>\n",
       "      <td>5337</td>\n",
       "      <td>J Hunt</td>\n",
       "      <td>&lt;p&gt;&lt;/p&gt;</td>\n",
       "      <td>None</td>\n",
       "      <td>2008-09-09 09:07:41.840000+00:00</td>\n",
       "      <td>2015-02-19 16:29:45.007000+00:00</td>\n",
       "      <td>United Kingdom</td>\n",
       "      <td>602</td>\n",
       "      <td>1</td>\n",
       "      <td>0</td>\n",
       "      <td>127</td>\n",
       "      <td>None</td>\n",
       "      <td>None</td>\n",
       "    </tr>\n",
       "    <tr>\n",
       "      <th>4</th>\n",
       "      <td>6910</td>\n",
       "      <td>Jonathan</td>\n",
       "      <td>&lt;ul&gt;&lt;li&gt;Started programming with Visual Basic ...</td>\n",
       "      <td>None</td>\n",
       "      <td>2008-09-15 12:48:35.843000+00:00</td>\n",
       "      <td>2019-11-29 15:15:39.270000+00:00</td>\n",
       "      <td>United Kingdom</td>\n",
       "      <td>21315</td>\n",
       "      <td>897</td>\n",
       "      <td>8</td>\n",
       "      <td>831</td>\n",
       "      <td>https://www.gravatar.com/avatar/592695fec5a951...</td>\n",
       "      <td>http://www.toolan.net</td>\n",
       "    </tr>\n",
       "  </tbody>\n",
       "</table>\n",
       "</div>"
      ],
      "text/plain": [
       "     id display_name                                           about_me   age  \\\n",
       "0  1074      Javache  <p>Hi.</p>\\n\\n<p>I'm an iOS engineer at Facebo...  None   \n",
       "1  1077          smh               <p>\\nEmbedded software engineer.</p>  None   \n",
       "2  4397    andygeers                                               None  None   \n",
       "3  5337       J Hunt                                            <p></p>  None   \n",
       "4  6910     Jonathan  <ul><li>Started programming with Visual Basic ...  None   \n",
       "\n",
       "                     creation_date                 last_access_date  \\\n",
       "0 2008-08-12 10:11:09.847000+00:00 2019-10-21 15:17:18.803000+00:00   \n",
       "1 2008-08-12 10:34:56.447000+00:00 2019-09-07 17:19:22.130000+00:00   \n",
       "2 2008-09-03 13:48:30.233000+00:00 2019-11-29 12:40:30.020000+00:00   \n",
       "3 2008-09-09 09:07:41.840000+00:00 2015-02-19 16:29:45.007000+00:00   \n",
       "4 2008-09-15 12:48:35.843000+00:00 2019-11-29 15:15:39.270000+00:00   \n",
       "\n",
       "                      location  reputation  up_votes  down_votes  views  \\\n",
       "0       London, United Kingdom        3107       158          21    266   \n",
       "1  Southampton, United Kingdom        1075       148           4     69   \n",
       "2       London, United Kingdom        6057       511          12    593   \n",
       "3               United Kingdom         602         1           0    127   \n",
       "4               United Kingdom       21315       897           8    831   \n",
       "\n",
       "                                   profile_image_url  \\\n",
       "0                                               None   \n",
       "1                                               None   \n",
       "2                                               None   \n",
       "3                                               None   \n",
       "4  https://www.gravatar.com/avatar/592695fec5a951...   \n",
       "\n",
       "                   website_url  \n",
       "0  http://thinkjavache.be/blog  \n",
       "1        http://www.bevois.com  \n",
       "2        http://www.geero.net/  \n",
       "3                         None  \n",
       "4        http://www.toolan.net  "
      ]
     },
     "execution_count": 59,
     "metadata": {},
     "output_type": "execute_result"
    }
   ],
   "source": [
    "query_job_1 = client.query(query=query_1)\n",
    "df_1=query_job_1.to_dataframe()\n",
    "df_1.head()"
   ]
  },
  {
   "cell_type": "markdown",
   "metadata": {},
   "source": [
    "#### 5. Rename id column to user_id"
   ]
  },
  {
   "cell_type": "code",
   "execution_count": 60,
   "metadata": {
    "ExecuteTime": {
     "end_time": "2020-02-04T19:23:14.497341Z",
     "start_time": "2020-02-04T19:23:14.415285Z"
    }
   },
   "outputs": [
    {
     "data": {
      "text/html": [
       "<div>\n",
       "<style scoped>\n",
       "    .dataframe tbody tr th:only-of-type {\n",
       "        vertical-align: middle;\n",
       "    }\n",
       "\n",
       "    .dataframe tbody tr th {\n",
       "        vertical-align: top;\n",
       "    }\n",
       "\n",
       "    .dataframe thead th {\n",
       "        text-align: right;\n",
       "    }\n",
       "</style>\n",
       "<table border=\"1\" class=\"dataframe\">\n",
       "  <thead>\n",
       "    <tr style=\"text-align: right;\">\n",
       "      <th></th>\n",
       "      <th>user_id</th>\n",
       "      <th>display_name</th>\n",
       "      <th>about_me</th>\n",
       "      <th>age</th>\n",
       "      <th>creation_date</th>\n",
       "      <th>last_access_date</th>\n",
       "      <th>location</th>\n",
       "      <th>reputation</th>\n",
       "      <th>up_votes</th>\n",
       "      <th>down_votes</th>\n",
       "      <th>views</th>\n",
       "      <th>profile_image_url</th>\n",
       "      <th>website_url</th>\n",
       "    </tr>\n",
       "  </thead>\n",
       "  <tbody>\n",
       "    <tr>\n",
       "      <th>0</th>\n",
       "      <td>1074</td>\n",
       "      <td>Javache</td>\n",
       "      <td>&lt;p&gt;Hi.&lt;/p&gt;\\n\\n&lt;p&gt;I'm an iOS engineer at Facebo...</td>\n",
       "      <td>None</td>\n",
       "      <td>2008-08-12 10:11:09.847000+00:00</td>\n",
       "      <td>2019-10-21 15:17:18.803000+00:00</td>\n",
       "      <td>London, United Kingdom</td>\n",
       "      <td>3107</td>\n",
       "      <td>158</td>\n",
       "      <td>21</td>\n",
       "      <td>266</td>\n",
       "      <td>None</td>\n",
       "      <td>http://thinkjavache.be/blog</td>\n",
       "    </tr>\n",
       "    <tr>\n",
       "      <th>1</th>\n",
       "      <td>1077</td>\n",
       "      <td>smh</td>\n",
       "      <td>&lt;p&gt;\\nEmbedded software engineer.&lt;/p&gt;</td>\n",
       "      <td>None</td>\n",
       "      <td>2008-08-12 10:34:56.447000+00:00</td>\n",
       "      <td>2019-09-07 17:19:22.130000+00:00</td>\n",
       "      <td>Southampton, United Kingdom</td>\n",
       "      <td>1075</td>\n",
       "      <td>148</td>\n",
       "      <td>4</td>\n",
       "      <td>69</td>\n",
       "      <td>None</td>\n",
       "      <td>http://www.bevois.com</td>\n",
       "    </tr>\n",
       "    <tr>\n",
       "      <th>2</th>\n",
       "      <td>4397</td>\n",
       "      <td>andygeers</td>\n",
       "      <td>None</td>\n",
       "      <td>None</td>\n",
       "      <td>2008-09-03 13:48:30.233000+00:00</td>\n",
       "      <td>2019-11-29 12:40:30.020000+00:00</td>\n",
       "      <td>London, United Kingdom</td>\n",
       "      <td>6057</td>\n",
       "      <td>511</td>\n",
       "      <td>12</td>\n",
       "      <td>593</td>\n",
       "      <td>None</td>\n",
       "      <td>http://www.geero.net/</td>\n",
       "    </tr>\n",
       "    <tr>\n",
       "      <th>3</th>\n",
       "      <td>5337</td>\n",
       "      <td>J Hunt</td>\n",
       "      <td>&lt;p&gt;&lt;/p&gt;</td>\n",
       "      <td>None</td>\n",
       "      <td>2008-09-09 09:07:41.840000+00:00</td>\n",
       "      <td>2015-02-19 16:29:45.007000+00:00</td>\n",
       "      <td>United Kingdom</td>\n",
       "      <td>602</td>\n",
       "      <td>1</td>\n",
       "      <td>0</td>\n",
       "      <td>127</td>\n",
       "      <td>None</td>\n",
       "      <td>None</td>\n",
       "    </tr>\n",
       "    <tr>\n",
       "      <th>4</th>\n",
       "      <td>6910</td>\n",
       "      <td>Jonathan</td>\n",
       "      <td>&lt;ul&gt;&lt;li&gt;Started programming with Visual Basic ...</td>\n",
       "      <td>None</td>\n",
       "      <td>2008-09-15 12:48:35.843000+00:00</td>\n",
       "      <td>2019-11-29 15:15:39.270000+00:00</td>\n",
       "      <td>United Kingdom</td>\n",
       "      <td>21315</td>\n",
       "      <td>897</td>\n",
       "      <td>8</td>\n",
       "      <td>831</td>\n",
       "      <td>https://www.gravatar.com/avatar/592695fec5a951...</td>\n",
       "      <td>http://www.toolan.net</td>\n",
       "    </tr>\n",
       "  </tbody>\n",
       "</table>\n",
       "</div>"
      ],
      "text/plain": [
       "   user_id display_name                                           about_me  \\\n",
       "0     1074      Javache  <p>Hi.</p>\\n\\n<p>I'm an iOS engineer at Facebo...   \n",
       "1     1077          smh               <p>\\nEmbedded software engineer.</p>   \n",
       "2     4397    andygeers                                               None   \n",
       "3     5337       J Hunt                                            <p></p>   \n",
       "4     6910     Jonathan  <ul><li>Started programming with Visual Basic ...   \n",
       "\n",
       "    age                    creation_date                 last_access_date  \\\n",
       "0  None 2008-08-12 10:11:09.847000+00:00 2019-10-21 15:17:18.803000+00:00   \n",
       "1  None 2008-08-12 10:34:56.447000+00:00 2019-09-07 17:19:22.130000+00:00   \n",
       "2  None 2008-09-03 13:48:30.233000+00:00 2019-11-29 12:40:30.020000+00:00   \n",
       "3  None 2008-09-09 09:07:41.840000+00:00 2015-02-19 16:29:45.007000+00:00   \n",
       "4  None 2008-09-15 12:48:35.843000+00:00 2019-11-29 15:15:39.270000+00:00   \n",
       "\n",
       "                      location  reputation  up_votes  down_votes  views  \\\n",
       "0       London, United Kingdom        3107       158          21    266   \n",
       "1  Southampton, United Kingdom        1075       148           4     69   \n",
       "2       London, United Kingdom        6057       511          12    593   \n",
       "3               United Kingdom         602         1           0    127   \n",
       "4               United Kingdom       21315       897           8    831   \n",
       "\n",
       "                                   profile_image_url  \\\n",
       "0                                               None   \n",
       "1                                               None   \n",
       "2                                               None   \n",
       "3                                               None   \n",
       "4  https://www.gravatar.com/avatar/592695fec5a951...   \n",
       "\n",
       "                   website_url  \n",
       "0  http://thinkjavache.be/blog  \n",
       "1        http://www.bevois.com  \n",
       "2        http://www.geero.net/  \n",
       "3                         None  \n",
       "4        http://www.toolan.net  "
      ]
     },
     "execution_count": 60,
     "metadata": {},
     "output_type": "execute_result"
    }
   ],
   "source": [
    "df_1=df_1.rename(columns={'id':'user_id'})\n",
    "df_1.head()"
   ]
  },
  {
   "cell_type": "markdown",
   "metadata": {},
   "source": [
    "#### 6. Import from the stackoverflow_posts table all items which have up to 20 view counts and only select 'id', 'owner_user_id', 'score', 'view_count', 'comment_count', 'favorite_count'"
   ]
  },
  {
   "cell_type": "code",
   "execution_count": 61,
   "metadata": {
    "ExecuteTime": {
     "end_time": "2020-02-04T19:23:14.685011Z",
     "start_time": "2020-02-04T19:23:14.681081Z"
    }
   },
   "outputs": [],
   "source": [
    "query_2='''\n",
    "\n",
    "SELECT \n",
    "    sp.id,\n",
    "    sp.owner_user_id,\n",
    "    sp.score,\n",
    "    sp.view_count,\n",
    "    sp.comment_count,\n",
    "    sp.favorite_count\n",
    "\n",
    "FROM \n",
    "        `bigquery-public-data.stackoverflow.stackoverflow_posts` sp\n",
    "        \n",
    "WHERE sp.view_count <= 20\n",
    "\n",
    "\n",
    "'''"
   ]
  },
  {
   "cell_type": "code",
   "execution_count": 62,
   "metadata": {
    "ExecuteTime": {
     "end_time": "2020-02-04T19:23:45.087736Z",
     "start_time": "2020-02-04T19:23:14.914131Z"
    }
   },
   "outputs": [],
   "source": [
    "query_job_2 = client.query(query=query_2)\n",
    "df_2=query_job_2.to_dataframe()"
   ]
  },
  {
   "cell_type": "code",
   "execution_count": 63,
   "metadata": {
    "ExecuteTime": {
     "end_time": "2020-02-04T19:23:45.257004Z",
     "start_time": "2020-02-04T19:23:45.242863Z"
    }
   },
   "outputs": [
    {
     "data": {
      "text/html": [
       "<div>\n",
       "<style scoped>\n",
       "    .dataframe tbody tr th:only-of-type {\n",
       "        vertical-align: middle;\n",
       "    }\n",
       "\n",
       "    .dataframe tbody tr th {\n",
       "        vertical-align: top;\n",
       "    }\n",
       "\n",
       "    .dataframe thead th {\n",
       "        text-align: right;\n",
       "    }\n",
       "</style>\n",
       "<table border=\"1\" class=\"dataframe\">\n",
       "  <thead>\n",
       "    <tr style=\"text-align: right;\">\n",
       "      <th></th>\n",
       "      <th>id</th>\n",
       "      <th>owner_user_id</th>\n",
       "      <th>score</th>\n",
       "      <th>view_count</th>\n",
       "      <th>comment_count</th>\n",
       "      <th>favorite_count</th>\n",
       "    </tr>\n",
       "  </thead>\n",
       "  <tbody>\n",
       "    <tr>\n",
       "      <th>0</th>\n",
       "      <td>23154134</td>\n",
       "      <td>NaN</td>\n",
       "      <td>1</td>\n",
       "      <td>20</td>\n",
       "      <td>0</td>\n",
       "      <td>NaN</td>\n",
       "    </tr>\n",
       "    <tr>\n",
       "      <th>1</th>\n",
       "      <td>37516574</td>\n",
       "      <td>NaN</td>\n",
       "      <td>0</td>\n",
       "      <td>7</td>\n",
       "      <td>0</td>\n",
       "      <td>NaN</td>\n",
       "    </tr>\n",
       "    <tr>\n",
       "      <th>2</th>\n",
       "      <td>37319831</td>\n",
       "      <td>NaN</td>\n",
       "      <td>1</td>\n",
       "      <td>18</td>\n",
       "      <td>0</td>\n",
       "      <td>NaN</td>\n",
       "    </tr>\n",
       "    <tr>\n",
       "      <th>3</th>\n",
       "      <td>31140287</td>\n",
       "      <td>NaN</td>\n",
       "      <td>1</td>\n",
       "      <td>16</td>\n",
       "      <td>3</td>\n",
       "      <td>NaN</td>\n",
       "    </tr>\n",
       "    <tr>\n",
       "      <th>4</th>\n",
       "      <td>36546336</td>\n",
       "      <td>NaN</td>\n",
       "      <td>0</td>\n",
       "      <td>8</td>\n",
       "      <td>0</td>\n",
       "      <td>NaN</td>\n",
       "    </tr>\n",
       "    <tr>\n",
       "      <th>5</th>\n",
       "      <td>37135854</td>\n",
       "      <td>NaN</td>\n",
       "      <td>0</td>\n",
       "      <td>12</td>\n",
       "      <td>0</td>\n",
       "      <td>NaN</td>\n",
       "    </tr>\n",
       "    <tr>\n",
       "      <th>6</th>\n",
       "      <td>1555629</td>\n",
       "      <td>NaN</td>\n",
       "      <td>0</td>\n",
       "      <td>20</td>\n",
       "      <td>0</td>\n",
       "      <td>NaN</td>\n",
       "    </tr>\n",
       "    <tr>\n",
       "      <th>7</th>\n",
       "      <td>36321359</td>\n",
       "      <td>NaN</td>\n",
       "      <td>0</td>\n",
       "      <td>18</td>\n",
       "      <td>0</td>\n",
       "      <td>NaN</td>\n",
       "    </tr>\n",
       "    <tr>\n",
       "      <th>8</th>\n",
       "      <td>36544553</td>\n",
       "      <td>846347.0</td>\n",
       "      <td>0</td>\n",
       "      <td>12</td>\n",
       "      <td>0</td>\n",
       "      <td>NaN</td>\n",
       "    </tr>\n",
       "    <tr>\n",
       "      <th>9</th>\n",
       "      <td>24160601</td>\n",
       "      <td>837501.0</td>\n",
       "      <td>0</td>\n",
       "      <td>12</td>\n",
       "      <td>0</td>\n",
       "      <td>NaN</td>\n",
       "    </tr>\n",
       "  </tbody>\n",
       "</table>\n",
       "</div>"
      ],
      "text/plain": [
       "         id  owner_user_id  score  view_count  comment_count  favorite_count\n",
       "0  23154134            NaN      1          20              0             NaN\n",
       "1  37516574            NaN      0           7              0             NaN\n",
       "2  37319831            NaN      1          18              0             NaN\n",
       "3  31140287            NaN      1          16              3             NaN\n",
       "4  36546336            NaN      0           8              0             NaN\n",
       "5  37135854            NaN      0          12              0             NaN\n",
       "6   1555629            NaN      0          20              0             NaN\n",
       "7  36321359            NaN      0          18              0             NaN\n",
       "8  36544553       846347.0      0          12              0             NaN\n",
       "9  24160601       837501.0      0          12              0             NaN"
      ]
     },
     "execution_count": 63,
     "metadata": {},
     "output_type": "execute_result"
    }
   ],
   "source": [
    "df_2.head(10)"
   ]
  },
  {
   "cell_type": "markdown",
   "metadata": {},
   "source": [
    "#### 7. Rename id column to post_id and owner_user_id to user_id"
   ]
  },
  {
   "cell_type": "code",
   "execution_count": 64,
   "metadata": {
    "ExecuteTime": {
     "end_time": "2020-02-04T19:23:45.522010Z",
     "start_time": "2020-02-04T19:23:45.474076Z"
    }
   },
   "outputs": [],
   "source": [
    "df_2=df_2.rename(columns={'id':'post_id','owner_user_id':'user_id'})"
   ]
  },
  {
   "cell_type": "markdown",
   "metadata": {},
   "source": [
    "#### 8. Define new dataframes for users and posts with the following selected columns:\n",
    "    **users columns**: user_id, reputation,views,up_votes,down_votes\n",
    "    **posts columns**: post_id, score,user_id,view_count,comment_count"
   ]
  },
  {
   "cell_type": "code",
   "execution_count": 69,
   "metadata": {
    "ExecuteTime": {
     "end_time": "2020-02-04T19:24:14.938880Z",
     "start_time": "2020-02-04T19:24:14.916220Z"
    }
   },
   "outputs": [],
   "source": [
    "df_users=df_1[['user_id', 'reputation','views','up_votes','down_votes']]\n",
    "df_posts=df_2[['post_id', 'score','user_id','view_count','comment_count']]"
   ]
  },
  {
   "cell_type": "markdown",
   "metadata": {},
   "source": [
    "#### 8. Merge both dataframes, users and posts. \n",
    "You will need to make a [merge](https://pandas.pydata.org/pandas-docs/stable/generated/pandas.DataFrame.merge.html) of posts and users dataframes."
   ]
  },
  {
   "cell_type": "code",
   "execution_count": 66,
   "metadata": {
    "ExecuteTime": {
     "end_time": "2020-02-04T19:23:46.047810Z",
     "start_time": "2020-02-04T19:23:45.857586Z"
    }
   },
   "outputs": [],
   "source": [
    "data_marged=pd.merge(df_posts,df_users,on='user_id')"
   ]
  },
  {
   "cell_type": "code",
   "execution_count": 67,
   "metadata": {
    "ExecuteTime": {
     "end_time": "2020-02-04T19:23:46.250288Z",
     "start_time": "2020-02-04T19:23:46.235066Z"
    }
   },
   "outputs": [
    {
     "data": {
      "text/html": [
       "<div>\n",
       "<style scoped>\n",
       "    .dataframe tbody tr th:only-of-type {\n",
       "        vertical-align: middle;\n",
       "    }\n",
       "\n",
       "    .dataframe tbody tr th {\n",
       "        vertical-align: top;\n",
       "    }\n",
       "\n",
       "    .dataframe thead th {\n",
       "        text-align: right;\n",
       "    }\n",
       "</style>\n",
       "<table border=\"1\" class=\"dataframe\">\n",
       "  <thead>\n",
       "    <tr style=\"text-align: right;\">\n",
       "      <th></th>\n",
       "      <th>post_id</th>\n",
       "      <th>score</th>\n",
       "      <th>user_id</th>\n",
       "      <th>view_count</th>\n",
       "      <th>comment_count</th>\n",
       "      <th>reputation</th>\n",
       "      <th>views</th>\n",
       "      <th>up_votes</th>\n",
       "      <th>down_votes</th>\n",
       "    </tr>\n",
       "  </thead>\n",
       "  <tbody>\n",
       "    <tr>\n",
       "      <th>0</th>\n",
       "      <td>36869494</td>\n",
       "      <td>1</td>\n",
       "      <td>13153.0</td>\n",
       "      <td>19</td>\n",
       "      <td>0</td>\n",
       "      <td>7895</td>\n",
       "      <td>578</td>\n",
       "      <td>419</td>\n",
       "      <td>7</td>\n",
       "    </tr>\n",
       "    <tr>\n",
       "      <th>1</th>\n",
       "      <td>37297217</td>\n",
       "      <td>0</td>\n",
       "      <td>13153.0</td>\n",
       "      <td>16</td>\n",
       "      <td>0</td>\n",
       "      <td>7895</td>\n",
       "      <td>578</td>\n",
       "      <td>419</td>\n",
       "      <td>7</td>\n",
       "    </tr>\n",
       "    <tr>\n",
       "      <th>2</th>\n",
       "      <td>37732871</td>\n",
       "      <td>0</td>\n",
       "      <td>13153.0</td>\n",
       "      <td>7</td>\n",
       "      <td>0</td>\n",
       "      <td>7895</td>\n",
       "      <td>578</td>\n",
       "      <td>419</td>\n",
       "      <td>7</td>\n",
       "    </tr>\n",
       "    <tr>\n",
       "      <th>3</th>\n",
       "      <td>36302663</td>\n",
       "      <td>1</td>\n",
       "      <td>4222145.0</td>\n",
       "      <td>19</td>\n",
       "      <td>0</td>\n",
       "      <td>71</td>\n",
       "      <td>21</td>\n",
       "      <td>64</td>\n",
       "      <td>0</td>\n",
       "    </tr>\n",
       "    <tr>\n",
       "      <th>4</th>\n",
       "      <td>37656361</td>\n",
       "      <td>1</td>\n",
       "      <td>1677045.0</td>\n",
       "      <td>18</td>\n",
       "      <td>3</td>\n",
       "      <td>816</td>\n",
       "      <td>106</td>\n",
       "      <td>50</td>\n",
       "      <td>3</td>\n",
       "    </tr>\n",
       "  </tbody>\n",
       "</table>\n",
       "</div>"
      ],
      "text/plain": [
       "    post_id  score    user_id  view_count  comment_count  reputation  views  \\\n",
       "0  36869494      1    13153.0          19              0        7895    578   \n",
       "1  37297217      0    13153.0          16              0        7895    578   \n",
       "2  37732871      0    13153.0           7              0        7895    578   \n",
       "3  36302663      1  4222145.0          19              0          71     21   \n",
       "4  37656361      1  1677045.0          18              3         816    106   \n",
       "\n",
       "   up_votes  down_votes  \n",
       "0       419           7  \n",
       "1       419           7  \n",
       "2       419           7  \n",
       "3        64           0  \n",
       "4        50           3  "
      ]
     },
     "execution_count": 67,
     "metadata": {},
     "output_type": "execute_result"
    }
   ],
   "source": [
    "data_marged.head()"
   ]
  },
  {
   "cell_type": "markdown",
   "metadata": {},
   "source": [
    "#### 9. How many missing values do you have in your merged dataframe? "
   ]
  },
  {
   "cell_type": "code",
   "execution_count": 68,
   "metadata": {
    "ExecuteTime": {
     "end_time": "2020-02-04T19:23:46.476998Z",
     "start_time": "2020-02-04T19:23:46.464683Z"
    }
   },
   "outputs": [
    {
     "data": {
      "text/plain": [
       "post_id          0\n",
       "score            0\n",
       "user_id          0\n",
       "view_count       0\n",
       "comment_count    0\n",
       "reputation       0\n",
       "views            0\n",
       "up_votes         0\n",
       "down_votes       0\n",
       "dtype: int64"
      ]
     },
     "execution_count": 68,
     "metadata": {},
     "output_type": "execute_result"
    }
   ],
   "source": [
    "null_cols=data_marged.isnull().sum()\n",
    "null_cols"
   ]
  },
  {
   "cell_type": "markdown",
   "metadata": {},
   "source": [
    "#### Bonus: Identify extreme values in your merged dataframe, create a dataframe called outliers with the same columns as our data set and calculate the bounds. The values of the outliers dataframe will be the values of the merged_df that fall outside that bounds. You will need to save your outliers dataframe to a csv file on your-code folder. Hint: post_id cannot have outliers!"
   ]
  },
  {
   "cell_type": "code",
   "execution_count": null,
   "metadata": {},
   "outputs": [],
   "source": []
  }
 ],
 "metadata": {
  "kernelspec": {
   "display_name": "Python 3",
   "language": "python",
   "name": "python3"
  },
  "language_info": {
   "codemirror_mode": {
    "name": "ipython",
    "version": 3
   },
   "file_extension": ".py",
   "mimetype": "text/x-python",
   "name": "python",
   "nbconvert_exporter": "python",
   "pygments_lexer": "ipython3",
   "version": "3.7.4"
  },
  "varInspector": {
   "cols": {
    "lenName": 16,
    "lenType": 16,
    "lenVar": 40
   },
   "kernels_config": {
    "python": {
     "delete_cmd_postfix": "",
     "delete_cmd_prefix": "del ",
     "library": "var_list.py",
     "varRefreshCmd": "print(var_dic_list())"
    },
    "r": {
     "delete_cmd_postfix": ") ",
     "delete_cmd_prefix": "rm(",
     "library": "var_list.r",
     "varRefreshCmd": "cat(var_dic_list()) "
    }
   },
   "types_to_exclude": [
    "module",
    "function",
    "builtin_function_or_method",
    "instance",
    "_Feature"
   ],
   "window_display": false
  }
 },
 "nbformat": 4,
 "nbformat_minor": 2
}
